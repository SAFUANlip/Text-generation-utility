{
 "cells": [
  {
   "cell_type": "code",
   "execution_count": 14,
   "metadata": {},
   "outputs": [],
   "source": [
    "import numpy as np\n",
    "import random\n",
    "import pickle\n",
    "import re"
   ]
  },
  {
   "cell_type": "code",
   "execution_count": 15,
   "metadata": {},
   "outputs": [],
   "source": [
    "def reading(file_name)->str:\n",
    "    #file_name = str(input('enter file name '))\n",
    "    f = open(file_name,'r', encoding='utf-8')\n",
    "    buff = \"\"\n",
    "    for i in f.readlines():\n",
    "        buff += str(i)\n",
    "    f.close()\n",
    "    return buff"
   ]
  },
  {
   "cell_type": "code",
   "execution_count": 40,
   "metadata": {},
   "outputs": [],
   "source": [
    "def formating(text)->list:\n",
    "    text = text.strip()\n",
    "    text = text.lower()\n",
    "    text = re.split(\"[^a-zа-яё]+\", text)\n",
    "    return text"
   ]
  },
  {
   "cell_type": "code",
   "execution_count": 100,
   "metadata": {},
   "outputs": [],
   "source": [
    "def teaching(text)->dict:\n",
    "    pref_post = {}\n",
    "    for i in range(len(text)-1):\n",
    "        if pref_post.get(text[i],0):\n",
    "            words = pref_post.get(text[i])\n",
    "            words.append(text[i+1])\n",
    "            pref_post[text[i]] = words\n",
    "        else:\n",
    "            pref_post[text[i]] = [text[i+1]]\n",
    "    return pref_post"
   ]
  },
  {
   "cell_type": "code",
   "execution_count": 102,
   "metadata": {},
   "outputs": [],
   "source": [
    "def generate(model):\n",
    "    pref_post = model\n",
    "    result = \"\"\n",
    "    text_l = int(input(\"input length of text \"))\n",
    "    word_head = random.choice(list(pref_post.keys()))\n",
    "    result += word_head+\" \"\n",
    "    for i in range(1, text_l):\n",
    "        word = random.choice(pref_post.get(word_head))\n",
    "        result += word+\" \"\n",
    "        word_head = word\n",
    "    return result"
   ]
  },
  {
   "cell_type": "code",
   "execution_count": 108,
   "metadata": {},
   "outputs": [
    {
     "name": "stdout",
     "output_type": "stream",
     "text": [
      "input length of text 30\n",
      "minutes later mr dursley sipped her if you know that the house he looked shocked and angry after all i suppose it inside harry come to amuse him but you \n"
     ]
    }
   ],
   "source": [
    "text = reading(\"training\")\n",
    "text = formating(text)\n",
    "model = teaching(text)\n",
    "\n",
    "print(generate(model))"
   ]
  },
  {
   "cell_type": "code",
   "execution_count": 99,
   "metadata": {},
   "outputs": [
    {
     "data": {
      "text/plain": [
       "[1, 5, 6, 6]"
      ]
     },
     "execution_count": 99,
     "metadata": {},
     "output_type": "execute_result"
    }
   ],
   "source": [
    "a = {\"hello\": ['i','o','b'], \"i\":\"am\",'am':'Bob'}\n",
    "c =  [a.get('hello')].append(\"here\")\n",
    "c = [1,5,6]\n",
    "c.append(6)\n",
    "c"
   ]
  },
  {
   "cell_type": "code",
   "execution_count": 61,
   "metadata": {},
   "outputs": [
    {
     "data": {
      "text/plain": [
       "5"
      ]
     },
     "execution_count": 61,
     "metadata": {},
     "output_type": "execute_result"
    }
   ],
   "source": [
    "b = 5 if a.get('i') else 6\n",
    "b"
   ]
  },
  {
   "cell_type": "code",
   "execution_count": null,
   "metadata": {},
   "outputs": [],
   "source": []
  }
 ],
 "metadata": {
  "kernelspec": {
   "display_name": "Python 3",
   "language": "python",
   "name": "python3"
  },
  "language_info": {
   "codemirror_mode": {
    "name": "ipython",
    "version": 3
   },
   "file_extension": ".py",
   "mimetype": "text/x-python",
   "name": "python",
   "nbconvert_exporter": "python",
   "pygments_lexer": "ipython3",
   "version": "3.8.3"
  }
 },
 "nbformat": 4,
 "nbformat_minor": 4
}
